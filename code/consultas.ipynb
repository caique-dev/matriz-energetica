{
 "cells": [
  {
   "cell_type": "markdown",
   "metadata": {},
   "source": [
    "# Conectando ao Banco"
   ]
  },
  {
   "cell_type": "code",
   "execution_count": 1,
   "metadata": {},
   "outputs": [],
   "source": [
    "import psycopg2\n",
    "import csv\n",
    "\n",
    "connection = psycopg2.connect(\n",
    "    dbname='projeto_bd',\n",
    "    user='postgres',\n",
    "    password='2805caique',\n",
    "    host='localhost',\n",
    "    port='5432'\n",
    ")\n",
    "\n",
    "cursor = connection.cursor()"
   ]
  },
  {
   "cell_type": "code",
   "execution_count": null,
   "metadata": {},
   "outputs": [],
   "source": [
    "def imprimir_tabela_ascii(dados, cabecalhos):\n",
    "    \"\"\"\n",
    "    Imprime uma tabela ASCII a partir de uma lista de tuplas e cabeçalhos.\n",
    "\n",
    "    :param dados: Lista de tuplas, onde cada tupla representa uma linha.\n",
    "    :param cabecalhos: Lista de strings com os nomes das colunas.\n",
    "    \"\"\"\n",
    "    if not dados or not cabecalhos:\n",
    "        print(\"Nenhum dado para mostrar.\")\n",
    "        return\n",
    "\n",
    "    num_colunas = len(cabecalhos)\n",
    "\n",
    "    # Descobre o maior número de casas decimais entre os floats\n",
    "    max_decimais = 0\n",
    "    for linha in dados:\n",
    "        for valor in linha:\n",
    "            if isinstance(valor, float):\n",
    "                str_valor = str(valor)\n",
    "                if '.' in str_valor:\n",
    "                    decimais = len(str_valor.split('.')[1])\n",
    "                    max_decimais = max(max_decimais, decimais)\n",
    "\n",
    "    # Cria nova matriz de dados com floats formatados\n",
    "    dados_formatados = []\n",
    "    for linha in dados:\n",
    "        nova_linha = []\n",
    "        for valor in linha:\n",
    "            if isinstance(valor, float):\n",
    "                novo_valor = f\"{valor:.{max_decimais}f}\"\n",
    "            else:\n",
    "                novo_valor = str(valor)\n",
    "            nova_linha.append(novo_valor)\n",
    "        dados_formatados.append(tuple(nova_linha))\n",
    "\n",
    "    # Calcula largura de cada coluna\n",
    "    larguras = []\n",
    "    for i in range(num_colunas):\n",
    "        maior = max(len(str(linha[i])) for linha in dados_formatados)\n",
    "        larguras.append(max(maior, len(cabecalhos[i])) + 2)  # +2 para espaçamento\n",
    "\n",
    "    # Imprime cabeçalho\n",
    "    linha_cabecalho = \" | \".join(cabecalhos[i].ljust(larguras[i]) for i in range(num_colunas))\n",
    "    print(linha_cabecalho)\n",
    "    print(\"-\" * len(linha_cabecalho))\n",
    "\n",
    "    # Imprime os dados formatados\n",
    "    for linha in dados_formatados:\n",
    "        linha_formatada = \" | \".join(\n",
    "            f\"{linha[i].rjust(larguras[i]) if linha[i].replace('.', '', 1).isdigit() else linha[i].ljust(larguras[i])}\"\n",
    "            for i in range(num_colunas)\n",
    "        )\n",
    "        print(linha_formatada)\n"
   ]
  },
  {
   "cell_type": "markdown",
   "metadata": {},
   "source": [
    "# Top 10 países que mais emitiram CO2 desde o início do milênio "
   ]
  },
  {
   "cell_type": "code",
   "execution_count": 6,
   "metadata": {},
   "outputs": [],
   "source": [
    "q = \"\"\"\n",
    "    SELECT \n",
    "        p.nome AS nome_pais,\n",
    "        sum((e.emissao * pa.qntd_habitantes)) AS \"Total de toneladas emitidas\"\n",
    "    FROM \n",
    "        public.emissao_gee e\n",
    "    JOIN \n",
    "        public.populacao_anual pa \n",
    "        ON e.ano = pa.ano AND e.fk_gee_pais = pa.fk_populacao_pais\n",
    "    JOIN \n",
    "        public.pais p \n",
    "        ON e.fk_gee_pais = p.id_pais\n",
    "    WHERE e.ano >= 2000\n",
    "    GROUP BY nome_pais\n",
    "    ORDER BY \n",
    "        \"Total de toneladas emitidas\" desc\n",
    "\"\"\"\n",
    "\n",
    "cursor.execute(q)\n",
    "\n",
    "resultados = cursor.fetchmany(10)"
   ]
  },
  {
   "cell_type": "code",
   "execution_count": 9,
   "metadata": {},
   "outputs": [
    {
     "name": "stdout",
     "output_type": "stream",
     "text": [
      "Pais                             | Toneladas de CO2 emitidas desde 2000  \n",
      "-------------------------------------------------------------------------\n",
      "China, People's Republic of      |                    243547219984.869995\n",
      "United States of America         |                    154023784095.767120\n",
      "India, Republic of               |                     71280949285.556015\n",
      "Brazil, Federative Republic of   |                     60888640878.083687\n",
      "Russian Federation               |                     54071990157.028496\n",
      "Indonesia, Republic of           |                     40520463476.537857\n",
      "Japan                            |                     29935607473.227959\n",
      "Germany, Federal Republic of     |                     21616726778.602295\n",
      "Canada                           |                     20338714102.405571\n",
      "Iran, Islamic Republic of        |                     19250677906.647640\n"
     ]
    }
   ],
   "source": [
    "cabecalhos = ['Pais', 'Toneladas de CO2 emitidas desde 2000']\n",
    "imprimir_tabela_ascii(resultados, cabecalhos)"
   ]
  },
  {
   "cell_type": "code",
   "execution_count": 11,
   "metadata": {},
   "outputs": [
    {
     "name": "stdout",
     "output_type": "stream",
     "text": [
      "Pais                             | Toneladas de CO2 emitidas desde 2000  \n",
      "-------------------------------------------------------------------------\n",
      "China, People's Republic of      |                        243547219984.87\n",
      "United States of America         |                     154023784095.76712\n",
      "India, Republic of               |                      71280949285.55602\n",
      "Brazil, Federative Republic of   |                      60888640878.08369\n",
      "Russian Federation               |                     54071990157.028496\n",
      "Indonesia, Republic of           |                      40520463476.53786\n",
      "Japan                            |                      29935607473.22796\n",
      "Germany, Federal Republic of     |                     21616726778.602295\n",
      "Canada                           |                      20338714102.40557\n",
      "Iran, Islamic Republic of        |                      19250677906.64764\n"
     ]
    }
   ],
   "source": [
    "cabecalhos = ['Pais', 'Toneladas de CO2 emitidas desde 2000']\n",
    "imprimir_tabela_ascii(resultados, cabecalhos)"
   ]
  }
 ],
 "metadata": {
  "kernelspec": {
   "display_name": "jupyter_venv",
   "language": "python",
   "name": "python3"
  },
  "language_info": {
   "codemirror_mode": {
    "name": "ipython",
    "version": 3
   },
   "file_extension": ".py",
   "mimetype": "text/x-python",
   "name": "python",
   "nbconvert_exporter": "python",
   "pygments_lexer": "ipython3",
   "version": "3.12.3"
  }
 },
 "nbformat": 4,
 "nbformat_minor": 2
}
