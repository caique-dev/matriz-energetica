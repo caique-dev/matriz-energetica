{
 "cells": [
  {
   "cell_type": "markdown",
   "metadata": {},
   "source": [
    "# Conectando ao Banco"
   ]
  },
  {
   "cell_type": "code",
   "execution_count": 53,
   "metadata": {},
   "outputs": [],
   "source": [
    "import psycopg2\n",
    "import csv\n",
    "import locale\n",
    "\n",
    "connection = psycopg2.connect(\n",
    "    dbname='projeto_bd',\n",
    "    user='postgres',\n",
    "    password='2805caique',\n",
    "    host='localhost',\n",
    "    port='5432'\n",
    ")\n",
    "\n",
    "cursor = connection.cursor()\n",
    "\n",
    "def imprimir_tabela_ascii(dados, cabecalhos, incluir_enum=True, colunas_formatadas=None, max_decimais=None):\n",
    "    \"\"\"\n",
    "    Imprime uma tabela ASCII com cabeçalhos e dados formatados.\n",
    "\n",
    "    :param dados: Lista de tuplas, onde cada tupla representa uma linha.\n",
    "    :param cabecalhos: Lista de strings com os nomes das colunas.\n",
    "    :param incluir_enum: Booleano para incluir uma coluna de enumeração (default=True).\n",
    "    :param colunas_formatadas: Lista de índices das colunas a serem formatadas com separador de milhar e vírgula decimal.\n",
    "    \"\"\"\n",
    "    if not dados or not cabecalhos:\n",
    "        print(\"Nenhum dado para mostrar.\")\n",
    "        return\n",
    "\n",
    "    # Ajuste do índice das colunas formatadas, caso a enumeração esteja ativada\n",
    "    colunas_formatadas = colunas_formatadas or []\n",
    "    if incluir_enum:\n",
    "        dados = [(i + 1,) + linha for i, linha in enumerate(dados)]\n",
    "        cabecalhos = [\"Nº\"] + cabecalhos\n",
    "        colunas_formatadas = [i + 1 for i in colunas_formatadas]\n",
    "\n",
    "    num_colunas = len(cabecalhos)\n",
    "\n",
    "    if (max_decimais == None):\n",
    "        # Descobre o maior número de casas decimais entre os floats\n",
    "        max_decimais = 0\n",
    "        for linha in dados:\n",
    "            for valor in linha:\n",
    "                if isinstance(valor, float):\n",
    "                    str_valor = str(valor)\n",
    "                    if '.' in str_valor:\n",
    "                        decimais = len(str_valor.split('.')[1])\n",
    "                        max_decimais = max(max_decimais, decimais)\n",
    "\n",
    "    # Cria nova matriz com valores formatados\n",
    "    dados_formatados = []\n",
    "    for linha in dados:\n",
    "        nova_linha = []\n",
    "        for i, valor in enumerate(linha):\n",
    "            if isinstance(valor, float):\n",
    "                valor_formatado = f\"{valor:.{max_decimais}f}\"\n",
    "                if i in colunas_formatadas:\n",
    "                    parte_inteira, parte_decimal = valor_formatado.split('.')\n",
    "                    parte_inteira = f\"{int(parte_inteira):,}\".replace(\",\", \".\")\n",
    "                    valor_formatado = f\"{parte_inteira},{parte_decimal}\"\n",
    "                nova_linha.append(valor_formatado)\n",
    "            else:\n",
    "                nova_linha.append(str(valor))\n",
    "        dados_formatados.append(tuple(nova_linha))\n",
    "\n",
    "    # Calcula a largura de cada coluna\n",
    "    larguras = []\n",
    "    for i in range(num_colunas):\n",
    "        maior = max(len(str(linha[i])) for linha in dados_formatados)\n",
    "        larguras.append(max(maior, len(cabecalhos[i])) + 2)\n",
    "\n",
    "    # Imprime o cabeçalho\n",
    "    linha_cabecalho = \" | \".join(cabecalhos[i].ljust(larguras[i]) for i in range(num_colunas))\n",
    "    print(linha_cabecalho)\n",
    "    print(\"-\" * len(linha_cabecalho))\n",
    "\n",
    "    # Imprime os dados\n",
    "    for linha in dados_formatados:\n",
    "        linha_formatada = \" | \".join(\n",
    "            linha[i].rjust(larguras[i]) if i in colunas_formatadas or linha[i].replace('.', '', 1).replace(',', '', 1).isdigit()\n",
    "            else linha[i].ljust(larguras[i])\n",
    "            for i in range(num_colunas)\n",
    "        )\n",
    "        print(linha_formatada)\n"
   ]
  },
  {
   "cell_type": "markdown",
   "metadata": {},
   "source": [
    "# PIB anual do Brasil desde 2000"
   ]
  },
  {
   "cell_type": "code",
   "execution_count": 35,
   "metadata": {},
   "outputs": [
    {
     "name": "stdout",
     "output_type": "stream",
     "text": [
      "Ano    | Valor em dólares      \n",
      "-------------------------------\n",
      "  2000 |   2.437.186.537.953,35\n",
      "  2001 |   2.471.060.904.082,38\n",
      "  2002 |   2.546.513.793.722,57\n",
      "  2003 |   2.575.565.054.195,91\n",
      "  2004 |   2.723.916.688.389,39\n",
      "  2005 |   2.811.140.110.353,63\n",
      "  2006 |   2.922.517.179.348,10\n",
      "  2007 |   3.099.910.252.408,75\n",
      "  2008 |   3.257.825.539.619,70\n",
      "  2009 |   3.253.727.075.279,87\n",
      "  2010 |   3.498.674.885.848,49\n",
      "  2011 |   3.637.727.027.648,88\n",
      "  2012 |   3.707.613.989.001,28\n",
      "  2013 |   3.819.021.353.167,28\n",
      "  2014 |   3.838.267.380.872,20\n",
      "  2015 |   3.702.171.527.337,32\n",
      "  2016 |   3.580.891.701.109,98\n",
      "  2017 |   3.628.262.212.788,34\n",
      "  2018 |   3.692.978.375.782,75\n",
      "  2019 |   3.738.061.309.550,99\n",
      "  2020 |   3.615.574.000.080,66\n",
      "  2021 |   3.787.769.313.378,39\n",
      "  2022 |   3.902.035.082.023,20\n",
      "  2023 |   4.015.524.694.998,83\n"
     ]
    }
   ],
   "source": [
    "q = \"\"\"\n",
    "    SELECT\n",
    "        pa.ano,\n",
    "        pa.qntd_habitantes * pib.valor as \"PIB do ano\"\n",
    "    FROM pais p\n",
    "    JOIN pib ON p.id_pais = pib.fk_pib_pais\n",
    "    JOIN populacao_anual pa ON p.id_pais = pa.fk_populacao_pais AND pib.ano = pa.ano\n",
    "    WHERE p.id_pais = 'BRA' AND pib.ano >= 2000\n",
    "\"\"\"\n",
    "\n",
    "cursor.execute(q)\n",
    "\n",
    "imprimir_tabela_ascii(cursor.fetchall(), ['Ano', \"Valor em dólares\"], colunas_formatadas=[1], incluir_enum=False)"
   ]
  },
  {
   "cell_type": "markdown",
   "metadata": {},
   "source": [
    "# Top 10 maiores PIB médios desde 1990 (início dos registros)"
   ]
  },
  {
   "cell_type": "code",
   "execution_count": 37,
   "metadata": {},
   "outputs": [
    {
     "name": "stdout",
     "output_type": "stream",
     "text": [
      "Nº   | Pais                                                 | Continente      | PIB médio                \n",
      "---------------------------------------------------------------------------------------------------------\n",
      "   1 | United States of America                             | North America   |   18.098.948.296.599,6953\n",
      "   2 | China, People's Republic of                          | Asia            |   12.908.361.852.476,1582\n",
      "   3 | India, Republic of                                   | Asia            |    6.062.472.010.605,6074\n",
      "   4 | Japan                                                | Asia            |    5.333.869.499.760,2861\n",
      "   5 | Germany, Federal Republic of                         | Europe          |    4.552.745.642.805,0889\n",
      "   6 | Russian Federation                                   | Europe          |    4.391.235.746.608,5737\n",
      "   7 | France, French Republic                              | Europe          |    3.183.499.407.751,6680\n",
      "   8 | Brazil, Federative Republic of                       | South America   |    3.073.953.230.521,6152\n",
      "   9 | United Kingdom of Great Britain & Northern Ireland   | Europe          |    2.998.925.460.324,1846\n",
      "  10 | Italy, Italian Republic                              | Europe          |    2.955.464.383.074,4395\n"
     ]
    }
   ],
   "source": [
    "q = \"\"\"\n",
    "    SELECT\n",
    "        p.nome,\n",
    "        continente.nome,\n",
    "        SUM(pa.qntd_habitantes * pib.valor) / (2023 - 1990) as \"PIB médio\"\n",
    "    FROM pais p\n",
    "    JOIN pib ON p.id_pais = pib.fk_pib_pais\n",
    "    JOIN populacao_anual pa ON p.id_pais = pa.fk_populacao_pais AND pib.ano = pa.ano\n",
    "    JOIN continente ON p.fk_pais_continente = continente.id_continente\n",
    "    WHERE pib.ano >= 1990\n",
    "    GROUP BY p.id_pais, continente.nome\n",
    "    ORDER BY \"PIB médio\" DESC\n",
    "\"\"\"\n",
    "\n",
    "cursor.execute(q)\n",
    "\n",
    "resultados = cursor.fetchmany(10)\n",
    "\n",
    "cabecalhos = ['Pais', 'Continente', 'PIB médio']\n",
    "\n",
    "imprimir_tabela_ascii(resultados, cabecalhos, colunas_formatadas=[2], max_decimais=2)"
   ]
  },
  {
   "cell_type": "markdown",
   "metadata": {},
   "source": [
    "# Top 10 países que mais emitiram CO2 desde 1990"
   ]
  },
  {
   "cell_type": "code",
   "execution_count": 45,
   "metadata": {},
   "outputs": [
    {
     "name": "stdout",
     "output_type": "stream",
     "text": [
      "Nº   | Pais                             | Toneladas de CO2 emitidas  \n",
      "---------------------------------------------------------------------\n",
      "   1 | China, People's Republic of      |          291.752.686.949,84\n",
      "   2 | United States of America         |          218.494.746.134,55\n",
      "   3 | India, Republic of               |           88.573.856.535,02\n",
      "   4 | Brazil, Federative Republic of   |           83.808.199.582,75\n",
      "   5 | Russian Federation               |           78.551.394.268,07\n",
      "   6 | Indonesia, Republic of           |           56.337.235.705,34\n",
      "   7 | Japan                            |           42.714.953.592,34\n",
      "   8 | Germany, Federal Republic of     |           32.796.856.646,88\n",
      "   9 | Canada                           |           28.385.309.238,00\n",
      "  10 | Mexico, United Mexican States    |           24.541.047.592,18\n"
     ]
    }
   ],
   "source": [
    "q = \"\"\"\n",
    "    SELECT \n",
    "        p.nome AS nome_pais,\n",
    "        sum((e.emissao * pa.qntd_habitantes)) AS \"Total de toneladas emitidas\"\n",
    "    FROM \n",
    "        public.emissao_gee e\n",
    "    JOIN \n",
    "        public.populacao_anual pa \n",
    "        ON e.ano = pa.ano AND e.fk_gee_pais = pa.fk_populacao_pais\n",
    "    JOIN \n",
    "        public.pais p \n",
    "        ON e.fk_gee_pais = p.id_pais\n",
    "    WHERE e.ano >= 1990\n",
    "    GROUP BY nome_pais\n",
    "    ORDER BY \n",
    "        \"Total de toneladas emitidas\" desc\n",
    "\"\"\"\n",
    "\n",
    "cursor.execute(q)\n",
    "\n",
    "resultados = cursor.fetchmany(10)\n",
    "\n",
    "cabecalhos = ['Pais', 'Toneladas de CO2 emitidas']\n",
    "\n",
    "imprimir_tabela_ascii(resultados, cabecalhos, colunas_formatadas=[1])"
   ]
  },
  {
   "cell_type": "markdown",
   "metadata": {},
   "source": [
    "# Acumulado de PIB e Toneladas de CO2 emitidas desde 1995 e relação grama de CO2 emitido por dolar \"produzido\" no período"
   ]
  },
  {
   "cell_type": "code",
   "execution_count": 54,
   "metadata": {},
   "outputs": [
    {
     "name": "stdout",
     "output_type": "stream",
     "text": [
      "Nº   | Continente      | Acumulado de Toneladas de CO2 emitidas   | PIB acumulado                     | Grama emitido por dolar gerado  \n",
      "----------------------------------------------------------------------------------------------------------------------------------------\n",
      "   1 | Asia            |                  20.536.206.589.889,4375 |   35.889.426.409.452.249.088,0000 |                           0,5722\n",
      "   2 | North America   |                   8.259.219.388.661,3936 |   21.752.752.535.671.267.328,0000 |                           0,3797\n",
      "   3 | Europe          |                   8.199.257.349.436,7637 |   29.701.466.684.452.507.648,0000 |                           0,2761\n",
      "   4 | Africa          |                   4.142.317.560.090,8438 |    5.046.125.397.796.729.856,0000 |                           0,8209\n",
      "   5 | South America   |                   3.808.707.855.549,2207 |    5.556.743.992.269.351.936,0000 |                           0,6854\n",
      "   6 | Oceania         |                     804.871.878.580,8792 |    1.236.572.859.498.226.944,0000 |                           0,6509\n"
     ]
    }
   ],
   "source": [
    "q = \"\"\"\n",
    "SELECT \n",
    "\tc.nome as \"Continente\",\n",
    "\tsum(emissao_gee.\"emissao total\") as \"Acumulado de Toneladas de CO2 emitidas\",\n",
    "\tsum(pib_acumulado.\"PIB acumulado\") as \"PIB acumulado\",\n",
    "\t(sum(emissao_gee.\"emissao total\")*10^6)/sum(pib_acumulado.\"PIB acumulado\") as \"Grama emitido por dolar gerado\"\n",
    "FROM pais p\n",
    "JOIN pib ON p.id_pais = pib.fk_pib_pais\n",
    "JOIN ( -- subconsulta para encontrar as emissoes acumuladas desde 1995\n",
    "\tSELECT \n",
    "\t\tpa.fk_populacao_pais,\n",
    "\t\tpa.ano,\n",
    "\t\t(pa.qntd_habitantes * gee_perc.emissao) as \"emissao total\"\n",
    "\tFROM populacao_anual pa\n",
    "\tJOIN emissao_gee gee_perc ON gee_perc.fk_gee_pais = pa.fk_populacao_pais AND gee_perc.ano = pa.ano\n",
    "\tWHERE pa.ano >= 1995\n",
    ") emissao_gee ON emissao_gee.fk_populacao_pais = p.id_pais\n",
    "JOIN continente c ON c.id_continente = p.fk_pais_continente\n",
    "JOIN ( -- subconsulta para encontrar a soma dos pibs anuais desde 1995\n",
    "\tSELECT \n",
    "\t\tp.id_pais,\n",
    "\t\tsum(pib.valor * pa.qntd_habitantes) as \"PIB acumulado\"\n",
    "\tFROM continente c\n",
    "\tJOIN pais p ON p.fk_pais_continente = c.id_continente\n",
    "\tJOIN pib ON pib.fk_pib_pais = p.id_pais\n",
    "\tJOIN populacao_anual pa ON pa.fk_populacao_pais = p.id_pais\n",
    "\tWHERE pa.ano >= 1995\n",
    "\tGROUP BY p.id_pais\n",
    ") pib_acumulado ON pib_acumulado.id_pais = p.id_pais\n",
    "GROUP BY c.id_continente\n",
    "ORDER BY sum(emissao_gee.\"emissao total\") DESC\n",
    "\"\"\"\n",
    "\n",
    "cursor.execute(q)\n",
    "\n",
    "r = cursor.fetchall()\n",
    "\n",
    "cabecalhos = [\n",
    "    'Continente',\n",
    "    \"Acumulado de Toneladas de CO2 emitidas\",\n",
    "    'PIB acumulado',\n",
    "    \"Grama emitido por dolar gerado\"\n",
    "]\n",
    "\n",
    "imprimir_tabela_ascii(r, cabecalhos, colunas_formatadas=[1,2,3], max_decimais=4)"
   ]
  }
 ],
 "metadata": {
  "kernelspec": {
   "display_name": "jupyter_venv",
   "language": "python",
   "name": "python3"
  },
  "language_info": {
   "codemirror_mode": {
    "name": "ipython",
    "version": 3
   },
   "file_extension": ".py",
   "mimetype": "text/x-python",
   "name": "python",
   "nbconvert_exporter": "python",
   "pygments_lexer": "ipython3",
   "version": "3.12.3"
  }
 },
 "nbformat": 4,
 "nbformat_minor": 2
}
