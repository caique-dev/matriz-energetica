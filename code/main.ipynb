{
 "cells": [
  {
   "cell_type": "code",
   "execution_count": 22,
   "metadata": {},
   "outputs": [],
   "source": [
    "import psycopg2\n",
    "import csv\n",
    "\n",
    "connection = psycopg2.connect(\n",
    "    dbname='projeto_bd',\n",
    "    user='postgres',\n",
    "    password='2805caique',\n",
    "    host='localhost',\n",
    "    port='5432'\n",
    ")\n",
    "\n",
    "cursor = connection.cursor()"
   ]
  },
  {
   "cell_type": "markdown",
   "metadata": {},
   "source": [
    "## Adicionando os continentes"
   ]
  },
  {
   "cell_type": "code",
   "execution_count": 48,
   "metadata": {},
   "outputs": [],
   "source": [
    "with open('../data/country-and-continent-codes-list-csv.csv') as file:\n",
    "    reader = csv.reader(file)\n",
    "    dicionario = {}\n",
    "    for row in list(reader)[2:]:\n",
    "        if not row[1] in dicionario:\n",
    "            cursor.execute('INSERT INTO continente (id_continente, nome) VALUES (%s, %s)', (row[1], row[0]))\n",
    "            dicionario[row[1]] = 1\n",
    "        else:\n",
    "            pass"
   ]
  },
  {
   "cell_type": "markdown",
   "metadata": {},
   "source": [
    "# Adicionando os países"
   ]
  },
  {
   "cell_type": "code",
   "execution_count": null,
   "metadata": {},
   "outputs": [],
   "source": [
    "with open('../data/country-and-continent-codes-list-csv.csv') as file:\n",
    "    reader = csv.reader(file)\n",
    "    dicionario = {}\n",
    "    for row in list(reader)[2:]:\n",
    "        if not row[1] in dicionario:\n",
    "            cursor.execute('INSERT INTO paise (id_pais, nome, fk_pais_continente) VALUES (%s, %s, %d)', (row[4], row[2], row[1]))\n",
    "            dicionario[row[1]] = 1\n",
    "        else:\n",
    "            pass"
   ]
  },
  {
   "cell_type": "code",
   "execution_count": 47,
   "metadata": {},
   "outputs": [],
   "source": [
    "connection.rollback()"
   ]
  },
  {
   "cell_type": "code",
   "execution_count": 49,
   "metadata": {},
   "outputs": [],
   "source": [
    "connection.commit()"
   ]
  }
 ],
 "metadata": {
  "kernelspec": {
   "display_name": "jupyter_venv",
   "language": "python",
   "name": "python3"
  },
  "language_info": {
   "codemirror_mode": {
    "name": "ipython",
    "version": 3
   },
   "file_extension": ".py",
   "mimetype": "text/x-python",
   "name": "python",
   "nbconvert_exporter": "python",
   "pygments_lexer": "ipython3",
   "version": "3.12.3"
  }
 },
 "nbformat": 4,
 "nbformat_minor": 2
}
